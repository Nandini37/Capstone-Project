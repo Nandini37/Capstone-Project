{
 "cells": [
  {
   "cell_type": "code",
   "execution_count": 1,
   "metadata": {},
   "outputs": [],
   "source": [
    "import pandas as pd\n",
    "from sqlalchemy import create_engine\n",
    "import pyodbc"
   ]
  },
  {
   "cell_type": "code",
   "execution_count": 2,
   "metadata": {},
   "outputs": [
    {
     "name": "stdout",
     "output_type": "stream",
     "text": [
      "   WeightStartOz  WeightEndOz  Zone 1  Zone 2  Zone 3  Zone 4  Zone 5  Zone 6  \\\n",
      "0              0           16   12.09   12.09   12.59   13.12   13.63   14.09   \n",
      "1             16           32   12.84   12.84   13.72   14.45   14.68   15.01   \n",
      "2             32           48   12.85   12.85   13.74   14.47   15.02   15.58   \n",
      "3             48           64   12.88   12.88   13.77   14.50   16.39   18.82   \n",
      "4             64           80   12.90   12.90   13.79   14.65   17.27   19.89   \n",
      "\n",
      "   Zone 7  Zone 8  Zone 9  Zone 10  \n",
      "0   14.35   14.49   48.92    14.49  \n",
      "1   15.76   17.11   54.31    17.11  \n",
      "2   18.04   21.43   59.13    21.43  \n",
      "3   20.13   22.94   64.32    22.94  \n",
      "4   21.92   24.03   69.66    24.03  \n",
      "   WeightStartOz  WeightEndOz  Zone1  Zone 2  Zone 3  Zone 4  Zone 5  Zone 6  \\\n",
      "0              0            8  23.83   23.83   24.84   25.90   30.99   37.22   \n",
      "1              8           16  23.83   23.83   24.84   25.90   30.99   37.22   \n",
      "2             16           32  24.80   24.80   26.06   26.90   33.67   41.97   \n",
      "3             32           48  25.20   25.20   26.90   28.48   37.07   48.22   \n",
      "4             48           64  25.97   25.97   27.84   30.84   43.28   55.71   \n",
      "\n",
      "   Zone 7  Zone 8  Zone9  Zone10  \n",
      "0   39.70   40.51  58.66   58.66  \n",
      "1   39.70   40.51  58.66   58.66  \n",
      "2   46.58   49.02  65.50   65.50  \n",
      "3   53.96   56.24  74.78   74.78  \n",
      "4   61.62   64.01  79.68   79.68  \n",
      "   WeightStartOz  WeightEndOz  Zone 1  Zone 2  Zone 3  Zone 4  Zone 5  Zone 6  \\\n",
      "0              0            4     5.0     5.1    5.15    5.25    5.35     5.4   \n",
      "1              4            4     5.7     5.8    5.85    5.90    5.95     6.0   \n",
      "2              8            8     6.5     6.6    6.65    6.70    6.75     6.8   \n",
      "3             12           12     8.0     8.2    8.30    8.45    8.60     8.7   \n",
      "4             15           15     8.0     8.2    8.30    8.45    8.60     8.7   \n",
      "\n",
      "   Zone 7  Zone 8  Zone 9  Zone 10  \n",
      "0    5.45    5.55    5.55     5.55  \n",
      "1    6.05    6.15    6.15     6.15  \n",
      "2    6.90    7.00    7.00     7.00  \n",
      "3    8.85    9.00    9.00     9.00  \n",
      "4    8.85    9.00    9.00     9.00  \n",
      "   WeightStartOz  WeightEndOz  Zone 1  Zone 2  Zone 3  Zone 4  Zone 5  Zone 6  \\\n",
      "0              1           16   10.70   10.70   11.12   12.15   12.70   13.00   \n",
      "1              2           32   11.53   11.53   12.71   13.90   14.20   14.82   \n",
      "2              3           48   12.00   12.00   13.38   14.37   15.10   15.72   \n",
      "3              4           64   12.35   12.35   13.47   15.11   16.08   16.37   \n",
      "4              5           80   12.56   12.56   13.95   15.33   16.64   17.31   \n",
      "\n",
      "   Zone 7  Zone 8  Zone 9  Zone 10  \n",
      "0   13.27   13.38   38.56    39.02  \n",
      "1   15.37   15.64   42.89    15.64  \n",
      "2   16.24   17.04   46.61    17.04  \n",
      "3   17.44   18.26   51.18    18.26  \n",
      "4   18.25   19.53   55.48    19.53  \n"
     ]
    }
   ],
   "source": [
    "# Read the Excel file\n",
    "\n",
    "UPSGround = pd.read_excel(\"D:/assignment/4th sem/Solution/UPSGround.xlsx\")\n",
    "USPSGround = pd.read_excel('D:/assignment/4th sem/Solution/USPSGround.xlsx')\n",
    "FedEx2day = pd.read_csv('D:/assignment/4th sem/Solution/2DayCounter_Fedex.csv',encoding='latin1')\n",
    "FedExGround = pd.read_csv('D:/assignment/4th sem/Solution/FHDCounter.csv',encoding='latin1')\n",
    "\n",
    "                        \n",
    "print(FedExGround.head())\n",
    "print(FedEx2day.head())\n",
    "print(USPSGround.head())\n",
    "print(UPSGround.head()) "
   ]
  },
  {
   "cell_type": "code",
   "execution_count": 3,
   "metadata": {},
   "outputs": [],
   "source": [
    "#UPSGround = pd.melt(UPSGround, id_vars=['WeightStartOz', 'WeightEndOz'], var_name='Zone', value_name='Value')\n",
    "#UPSGround['Carrier'] = 'UPS'\n",
    "#UPSGround['CarrierService'] = 'UPSGround'\n",
    "\n"
   ]
  },
  {
   "cell_type": "code",
   "execution_count": 4,
   "metadata": {},
   "outputs": [],
   "source": [
    "def transform_df(df, additional_columns):\n",
    "        df_melted = pd.melt(df, id_vars=['WeightStartOz', 'WeightEndOz'], var_name='Zone', value_name='Value')\n",
    "       # Add additional columns\n",
    "        for col_name, col_value in additional_columns.items():\n",
    "            df_melted[col_name] = col_value\n",
    "    \n",
    "        return df_melted"
   ]
  },
  {
   "cell_type": "code",
   "execution_count": 5,
   "metadata": {},
   "outputs": [
    {
     "name": "stdout",
     "output_type": "stream",
     "text": [
      "<class 'pandas.core.frame.DataFrame'>\n",
      "RangeIndex: 151 entries, 0 to 150\n",
      "Data columns (total 12 columns):\n",
      " #   Column         Non-Null Count  Dtype  \n",
      "---  ------         --------------  -----  \n",
      " 0   WeightStartOz  151 non-null    int64  \n",
      " 1   WeightEndOz    151 non-null    int64  \n",
      " 2   Zone1          151 non-null    float64\n",
      " 3   Zone 2         151 non-null    float64\n",
      " 4   Zone 3         151 non-null    float64\n",
      " 5   Zone 4         151 non-null    float64\n",
      " 6   Zone 5         151 non-null    float64\n",
      " 7   Zone 6         151 non-null    float64\n",
      " 8   Zone 7         151 non-null    float64\n",
      " 9   Zone 8         151 non-null    float64\n",
      " 10  Zone9          151 non-null    float64\n",
      " 11  Zone10         151 non-null    float64\n",
      "dtypes: float64(10), int64(2)\n",
      "memory usage: 14.3 KB\n"
     ]
    }
   ],
   "source": [
    "FedEx2day.info()"
   ]
  },
  {
   "cell_type": "code",
   "execution_count": 6,
   "metadata": {},
   "outputs": [],
   "source": [
    "FedEx2day= transform_df(FedEx2day, additional_columns={'Carrier': 'FedEx', 'CarrierService': 'FedEx2day' , 'Shipoption' : '2day'})\n",
    "FedExGround = transform_df(FedExGround, additional_columns={'Carrier': 'FedEx', 'CarrierService': 'FedExGround','Shipoption' : 'Ground'})\n",
    "UPSGround = transform_df(UPSGround, additional_columns={'Carrier': 'UPS', 'CarrierService': 'UPSGround','Shipoption' : 'Ground'})\n",
    "USPSGround = transform_df(USPSGround, additional_columns={'Carrier': 'USPS', 'CarrierService': 'USPSGround','Shipoption' : 'Ground'})\n"
   ]
  },
  {
   "cell_type": "code",
   "execution_count": 7,
   "metadata": {},
   "outputs": [],
   "source": [
    "df = pd.concat([FedEx2day, FedExGround, UPSGround, USPSGround])"
   ]
  },
  {
   "cell_type": "code",
   "execution_count": 8,
   "metadata": {},
   "outputs": [
    {
     "data": {
      "text/html": [
       "<div>\n",
       "<style scoped>\n",
       "    .dataframe tbody tr th:only-of-type {\n",
       "        vertical-align: middle;\n",
       "    }\n",
       "\n",
       "    .dataframe tbody tr th {\n",
       "        vertical-align: top;\n",
       "    }\n",
       "\n",
       "    .dataframe thead th {\n",
       "        text-align: right;\n",
       "    }\n",
       "</style>\n",
       "<table border=\"1\" class=\"dataframe\">\n",
       "  <thead>\n",
       "    <tr style=\"text-align: right;\">\n",
       "      <th></th>\n",
       "      <th>WeightStartOz</th>\n",
       "      <th>WeightEndOz</th>\n",
       "      <th>Zone</th>\n",
       "      <th>Value</th>\n",
       "      <th>Carrier</th>\n",
       "      <th>CarrierService</th>\n",
       "      <th>Shipoption</th>\n",
       "    </tr>\n",
       "  </thead>\n",
       "  <tbody>\n",
       "    <tr>\n",
       "      <th>0</th>\n",
       "      <td>0</td>\n",
       "      <td>8</td>\n",
       "      <td>Zone1</td>\n",
       "      <td>23.83</td>\n",
       "      <td>FedEx</td>\n",
       "      <td>FedEx2day</td>\n",
       "      <td>2day</td>\n",
       "    </tr>\n",
       "    <tr>\n",
       "      <th>1</th>\n",
       "      <td>8</td>\n",
       "      <td>16</td>\n",
       "      <td>Zone1</td>\n",
       "      <td>23.83</td>\n",
       "      <td>FedEx</td>\n",
       "      <td>FedEx2day</td>\n",
       "      <td>2day</td>\n",
       "    </tr>\n",
       "    <tr>\n",
       "      <th>2</th>\n",
       "      <td>16</td>\n",
       "      <td>32</td>\n",
       "      <td>Zone1</td>\n",
       "      <td>24.80</td>\n",
       "      <td>FedEx</td>\n",
       "      <td>FedEx2day</td>\n",
       "      <td>2day</td>\n",
       "    </tr>\n",
       "    <tr>\n",
       "      <th>3</th>\n",
       "      <td>32</td>\n",
       "      <td>48</td>\n",
       "      <td>Zone1</td>\n",
       "      <td>25.20</td>\n",
       "      <td>FedEx</td>\n",
       "      <td>FedEx2day</td>\n",
       "      <td>2day</td>\n",
       "    </tr>\n",
       "    <tr>\n",
       "      <th>4</th>\n",
       "      <td>48</td>\n",
       "      <td>64</td>\n",
       "      <td>Zone1</td>\n",
       "      <td>25.97</td>\n",
       "      <td>FedEx</td>\n",
       "      <td>FedEx2day</td>\n",
       "      <td>2day</td>\n",
       "    </tr>\n",
       "  </tbody>\n",
       "</table>\n",
       "</div>"
      ],
      "text/plain": [
       "   WeightStartOz  WeightEndOz   Zone  Value Carrier CarrierService Shipoption\n",
       "0              0            8  Zone1  23.83   FedEx      FedEx2day       2day\n",
       "1              8           16  Zone1  23.83   FedEx      FedEx2day       2day\n",
       "2             16           32  Zone1  24.80   FedEx      FedEx2day       2day\n",
       "3             32           48  Zone1  25.20   FedEx      FedEx2day       2day\n",
       "4             48           64  Zone1  25.97   FedEx      FedEx2day       2day"
      ]
     },
     "execution_count": 8,
     "metadata": {},
     "output_type": "execute_result"
    }
   ],
   "source": [
    "df.head()"
   ]
  },
  {
   "cell_type": "code",
   "execution_count": 9,
   "metadata": {},
   "outputs": [
    {
     "name": "stdout",
     "output_type": "stream",
     "text": [
      "DataFrame successfully loaded into SQL Server table.\n"
     ]
    }
   ],
   "source": [
    "\n",
    "from sqlalchemy import create_engine\n",
    "import pyodbc\n",
    "\n",
    "\n",
    "\n",
    "\n",
    "# Define your SQL Server connection parameters\n",
    "server = 'LAPTOP-2MROT4G8\\SQLEXPRESS'\n",
    "database = 'master'\n",
    "table_name = 'Ratecard'\n",
    "\n",
    "\n",
    "\n",
    "# Create a connection using pyodbc\n",
    "conn = pyodbc.connect(\n",
    "    'DRIVER={ODBC Driver 17 for SQL Server};'\n",
    "    'SERVER=LAPTOP-2MROT4G8\\SQLEXPRESS;'\n",
    "    'DATABASE=master;'\n",
    "    'Trusted_Connection=yes;'\n",
    ")\n",
    "\n",
    "       \n",
    "\n",
    "\n",
    "\n",
    "\n",
    "# Create a connection string using Trusted Connection (Windows Authentication)\n",
    "connection_string = f\"mssql+pyodbc://@{server}/{database}?trusted_connection=yes&driver=ODBC+Driver+17+for+SQL+Server\"\n",
    "\n",
    "# Create an SQLAlchemy engine using the connection string\n",
    "engine = create_engine(connection_string)\n",
    "\n",
    "# Optional: Connect to the database and delete the existing table if it exists\n",
    "#with engine.connect() as connection:\n",
    "#    connection.execute(f\"DROP TABLE IF EXISTS {table_name}\")\n",
    "#    print(f\"Table {table_name} deleted (if it existed).\")\n",
    "#\n",
    "\n",
    "\n",
    "# Load DataFrame into SQL Server table\n",
    "df.to_sql(table_name, engine, if_exists='replace', index=False)\n",
    "\n",
    "print(\"DataFrame successfully loaded into SQL Server table.\")\n"
   ]
  },
  {
   "cell_type": "code",
   "execution_count": null,
   "metadata": {},
   "outputs": [],
   "source": []
  }
 ],
 "metadata": {
  "kernelspec": {
   "display_name": "streamlit",
   "language": "python",
   "name": "python3"
  },
  "language_info": {
   "codemirror_mode": {
    "name": "ipython",
    "version": 3
   },
   "file_extension": ".py",
   "mimetype": "text/x-python",
   "name": "python",
   "nbconvert_exporter": "python",
   "pygments_lexer": "ipython3",
   "version": "3.9.16"
  }
 },
 "nbformat": 4,
 "nbformat_minor": 2
}
